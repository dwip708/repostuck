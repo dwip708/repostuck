{
 "cells": [
  {
   "cell_type": "markdown",
   "metadata": {},
   "source": [
    "Get Started (detailed)"
   ]
  },
  {
   "cell_type": "code",
   "execution_count": 1,
   "metadata": {},
   "outputs": [],
   "source": [
    "import torch\n",
    "import librosa\n",
    "import numpy as np\n",
    "from modules import feature_extractor, DetectionNet, BreathDetector"
   ]
  },
  {
   "cell_type": "code",
   "execution_count": 4,
   "metadata": {},
   "outputs": [
    {
     "name": "stdout",
     "output_type": "stream",
     "text": [
      "Collecting config\n",
      "  Downloading config-0.5.1-py2.py3-none-any.whl (20 kB)\n",
      "Requirement already satisfied: torch==2.2.2 in /Users/user/.pyenv/versions/3.10.15/lib/python3.10/site-packages (2.2.2)\n",
      "Requirement already satisfied: torchaudio==2.2.2 in /Users/user/.pyenv/versions/3.10.15/lib/python3.10/site-packages (2.2.2)\n",
      "Requirement already satisfied: librosa==0.10.0 in /Users/user/.pyenv/versions/3.10.15/lib/python3.10/site-packages (0.10.0)\n",
      "Requirement already satisfied: numpy==1.23.0 in /Users/user/.pyenv/versions/3.10.15/lib/python3.10/site-packages (1.23.0)\n",
      "Requirement already satisfied: intervaltree==3.1.0 in /Users/user/.pyenv/versions/3.10.15/lib/python3.10/site-packages (3.1.0)\n",
      "Requirement already satisfied: networkx in /Users/user/.pyenv/versions/3.10.15/lib/python3.10/site-packages (from torch==2.2.2) (3.4.2)\n",
      "Requirement already satisfied: jinja2 in /Users/user/.pyenv/versions/3.10.15/lib/python3.10/site-packages (from torch==2.2.2) (3.1.5)\n",
      "Requirement already satisfied: filelock in /Users/user/.pyenv/versions/3.10.15/lib/python3.10/site-packages (from torch==2.2.2) (3.17.0)\n",
      "Requirement already satisfied: sympy in /Users/user/.pyenv/versions/3.10.15/lib/python3.10/site-packages (from torch==2.2.2) (1.14.0)\n",
      "Requirement already satisfied: fsspec in /Users/user/.pyenv/versions/3.10.15/lib/python3.10/site-packages (from torch==2.2.2) (2025.2.0)\n",
      "Requirement already satisfied: typing-extensions>=4.8.0 in /Users/user/.pyenv/versions/3.10.15/lib/python3.10/site-packages (from torch==2.2.2) (4.12.2)\n",
      "Requirement already satisfied: soundfile>=0.12.1 in /Users/user/.pyenv/versions/3.10.15/lib/python3.10/site-packages (from librosa==0.10.0) (0.13.1)\n",
      "Requirement already satisfied: decorator>=4.3.0 in /Users/user/.pyenv/versions/3.10.15/lib/python3.10/site-packages (from librosa==0.10.0) (4.4.2)\n",
      "Requirement already satisfied: soxr>=0.3.2 in /Users/user/.pyenv/versions/3.10.15/lib/python3.10/site-packages (from librosa==0.10.0) (0.5.0.post1)\n",
      "Requirement already satisfied: audioread>=2.1.9 in /Users/user/.pyenv/versions/3.10.15/lib/python3.10/site-packages (from librosa==0.10.0) (3.0.1)\n",
      "Requirement already satisfied: pooch>=1.0 in /Users/user/.pyenv/versions/3.10.15/lib/python3.10/site-packages (from librosa==0.10.0) (1.8.2)\n",
      "Requirement already satisfied: scipy>=1.2.0 in /Users/user/.pyenv/versions/3.10.15/lib/python3.10/site-packages (from librosa==0.10.0) (1.13.1)\n",
      "Requirement already satisfied: joblib>=0.14 in /Users/user/.pyenv/versions/3.10.15/lib/python3.10/site-packages (from librosa==0.10.0) (1.4.2)\n",
      "Requirement already satisfied: numba>=0.51.0 in /Users/user/.pyenv/versions/3.10.15/lib/python3.10/site-packages (from librosa==0.10.0) (0.60.0)\n",
      "Requirement already satisfied: msgpack>=1.0 in /Users/user/.pyenv/versions/3.10.15/lib/python3.10/site-packages (from librosa==0.10.0) (1.1.0)\n",
      "Requirement already satisfied: scikit-learn>=0.20.0 in /Users/user/.pyenv/versions/3.10.15/lib/python3.10/site-packages (from librosa==0.10.0) (1.6.1)\n",
      "Requirement already satisfied: lazy-loader>=0.1 in /Users/user/.pyenv/versions/3.10.15/lib/python3.10/site-packages (from librosa==0.10.0) (0.4)\n",
      "Requirement already satisfied: sortedcontainers<3.0,>=2.0 in /Users/user/.pyenv/versions/3.10.15/lib/python3.10/site-packages (from intervaltree==3.1.0) (2.4.0)\n",
      "Requirement already satisfied: packaging in /Users/user/.pyenv/versions/3.10.15/lib/python3.10/site-packages (from lazy-loader>=0.1->librosa==0.10.0) (24.2)\n",
      "Requirement already satisfied: llvmlite<0.44,>=0.43.0dev0 in /Users/user/.pyenv/versions/3.10.15/lib/python3.10/site-packages (from numba>=0.51.0->librosa==0.10.0) (0.43.0)\n",
      "Requirement already satisfied: requests>=2.19.0 in /Users/user/.pyenv/versions/3.10.15/lib/python3.10/site-packages (from pooch>=1.0->librosa==0.10.0) (2.32.3)\n",
      "Requirement already satisfied: platformdirs>=2.5.0 in /Users/user/.pyenv/versions/3.10.15/lib/python3.10/site-packages (from pooch>=1.0->librosa==0.10.0) (4.3.6)\n",
      "Requirement already satisfied: threadpoolctl>=3.1.0 in /Users/user/.pyenv/versions/3.10.15/lib/python3.10/site-packages (from scikit-learn>=0.20.0->librosa==0.10.0) (3.5.0)\n",
      "Requirement already satisfied: cffi>=1.0 in /Users/user/.pyenv/versions/3.10.15/lib/python3.10/site-packages (from soundfile>=0.12.1->librosa==0.10.0) (1.17.1)\n",
      "Requirement already satisfied: MarkupSafe>=2.0 in /Users/user/.pyenv/versions/3.10.15/lib/python3.10/site-packages (from jinja2->torch==2.2.2) (2.1.5)\n",
      "Requirement already satisfied: mpmath<1.4,>=1.1.0 in /Users/user/.pyenv/versions/3.10.15/lib/python3.10/site-packages (from sympy->torch==2.2.2) (1.3.0)\n",
      "Requirement already satisfied: pycparser in /Users/user/.pyenv/versions/3.10.15/lib/python3.10/site-packages (from cffi>=1.0->soundfile>=0.12.1->librosa==0.10.0) (2.22)\n",
      "Requirement already satisfied: charset-normalizer<4,>=2 in /Users/user/.pyenv/versions/3.10.15/lib/python3.10/site-packages (from requests>=2.19.0->pooch>=1.0->librosa==0.10.0) (3.4.1)\n",
      "Requirement already satisfied: certifi>=2017.4.17 in /Users/user/.pyenv/versions/3.10.15/lib/python3.10/site-packages (from requests>=2.19.0->pooch>=1.0->librosa==0.10.0) (2024.12.14)\n",
      "Requirement already satisfied: idna<4,>=2.5 in /Users/user/.pyenv/versions/3.10.15/lib/python3.10/site-packages (from requests>=2.19.0->pooch>=1.0->librosa==0.10.0) (3.10)\n",
      "Requirement already satisfied: urllib3<3,>=1.21.1 in /Users/user/.pyenv/versions/3.10.15/lib/python3.10/site-packages (from requests>=2.19.0->pooch>=1.0->librosa==0.10.0) (2.3.0)\n",
      "Installing collected packages: config\n",
      "Successfully installed config-0.5.1\n",
      "\n",
      "\u001b[1m[\u001b[0m\u001b[34;49mnotice\u001b[0m\u001b[1;39;49m]\u001b[0m\u001b[39;49m A new release of pip is available: \u001b[0m\u001b[31;49m23.0.1\u001b[0m\u001b[39;49m -> \u001b[0m\u001b[32;49m25.2\u001b[0m\n",
      "\u001b[1m[\u001b[0m\u001b[34;49mnotice\u001b[0m\u001b[1;39;49m]\u001b[0m\u001b[39;49m To update, run: \u001b[0m\u001b[32;49mpip install --upgrade pip\u001b[0m\n"
     ]
    }
   ],
   "source": [
    "!pip install config torch==2.2.2 torchaudio==2.2.2 librosa==0.10.0 numpy==1.23.0 intervaltree==3.1.0"
   ]
  },
  {
   "cell_type": "code",
   "execution_count": 2,
   "metadata": {},
   "outputs": [
    {
     "name": "stdout",
     "output_type": "stream",
     "text": [
      "cpu\n"
     ]
    },
    {
     "data": {
      "text/plain": [
       "DetectionNet(\n",
       "  (downsampling): Conv2dDownsampling(\n",
       "    (conv1): Sequential(\n",
       "      (0): Conv2d(3, 1, kernel_size=(3, 3), stride=(2, 2))\n",
       "      (1): ReLU()\n",
       "    )\n",
       "    (conv2): Sequential(\n",
       "      (0): Conv2d(1, 1, kernel_size=(3, 3), stride=(2, 2))\n",
       "      (1): ReLU()\n",
       "    )\n",
       "  )\n",
       "  (upsampling): Conv1dUpsampling(\n",
       "    (deconv): Sequential(\n",
       "      (0): ConvTranspose1d(128, 128, kernel_size=(3,), stride=(2,))\n",
       "      (1): ReLU()\n",
       "      (2): ConvTranspose1d(128, 128, kernel_size=(3,), stride=(2,))\n",
       "      (3): ReLU()\n",
       "    )\n",
       "  )\n",
       "  (linear): Linear(in_features=31, out_features=128, bias=True)\n",
       "  (dropout): Dropout(p=0.1, inplace=False)\n",
       "  (conformer): Conformer(\n",
       "    (conformer_layers): ModuleList(\n",
       "      (0-7): 8 x ConformerLayer(\n",
       "        (ffn1): _FeedForwardModule(\n",
       "          (sequential): Sequential(\n",
       "            (0): LayerNorm((128,), eps=1e-05, elementwise_affine=True)\n",
       "            (1): Linear(in_features=128, out_features=256, bias=True)\n",
       "            (2): SiLU()\n",
       "            (3): Dropout(p=0.1, inplace=False)\n",
       "            (4): Linear(in_features=256, out_features=128, bias=True)\n",
       "            (5): Dropout(p=0.1, inplace=False)\n",
       "          )\n",
       "        )\n",
       "        (self_attn_layer_norm): LayerNorm((128,), eps=1e-05, elementwise_affine=True)\n",
       "        (self_attn): MultiheadAttention(\n",
       "          (out_proj): NonDynamicallyQuantizableLinear(in_features=128, out_features=128, bias=True)\n",
       "        )\n",
       "        (self_attn_dropout): Dropout(p=0.1, inplace=False)\n",
       "        (conv_module): _ConvolutionModule(\n",
       "          (layer_norm): LayerNorm((128,), eps=1e-05, elementwise_affine=True)\n",
       "          (sequential): Sequential(\n",
       "            (0): Conv1d(128, 256, kernel_size=(1,), stride=(1,))\n",
       "            (1): GLU(dim=1)\n",
       "            (2): Conv1d(128, 128, kernel_size=(31,), stride=(1,), padding=(15,), groups=128)\n",
       "            (3): BatchNorm1d(128, eps=1e-05, momentum=0.1, affine=True, track_running_stats=True)\n",
       "            (4): SiLU()\n",
       "            (5): Conv1d(128, 128, kernel_size=(1,), stride=(1,))\n",
       "            (6): Dropout(p=0.1, inplace=False)\n",
       "          )\n",
       "        )\n",
       "        (ffn2): _FeedForwardModule(\n",
       "          (sequential): Sequential(\n",
       "            (0): LayerNorm((128,), eps=1e-05, elementwise_affine=True)\n",
       "            (1): Linear(in_features=128, out_features=256, bias=True)\n",
       "            (2): SiLU()\n",
       "            (3): Dropout(p=0.1, inplace=False)\n",
       "            (4): Linear(in_features=256, out_features=128, bias=True)\n",
       "            (5): Dropout(p=0.1, inplace=False)\n",
       "          )\n",
       "        )\n",
       "        (final_layer_norm): LayerNorm((128,), eps=1e-05, elementwise_affine=True)\n",
       "      )\n",
       "    )\n",
       "  )\n",
       "  (lstm): LSTM(128, 256, batch_first=True, bidirectional=True)\n",
       "  (fc): Linear(in_features=512, out_features=1, bias=True)\n",
       "  (sigmoid): Sigmoid()\n",
       ")"
      ]
     },
     "execution_count": 2,
     "metadata": {},
     "output_type": "execute_result"
    }
   ],
   "source": [
    "# model loading\n",
    "device = torch.device(\"cuda\" if torch.cuda.is_available() else \"cpu\")\n",
    "print(device)\n",
    "model = DetectionNet().to(device)\n",
    "# Load checkpoint with correct map_location\n",
    "checkpoint = torch.load(\"respiro-en.pt\", map_location=device)\n",
    "model.load_state_dict(checkpoint[\"model\"])\n",
    "model.eval()"
   ]
  },
  {
   "cell_type": "code",
   "execution_count": 3,
   "metadata": {},
   "outputs": [
    {
     "name": "stdout",
     "output_type": "stream",
     "text": [
      "[ 0  1  2  3  4  5  6  7  8  9 10 11 12 13 14 15 16 17 18 19 20 21 22 23\n",
      " 24 25 26 27 28 29 30 31 32 33 34 35 36 37 38 39 40 41 42 43 44 45 46 47\n",
      " 48 49 50 51 52 53 54 55]\n",
      "[195 196 197 198 199 200 201 202 203 204 205 206 207 208 209 210 211 212\n",
      " 213 214 215 216 217 218 219 220 221 222 223 224 225 226 227 228 229 230\n",
      " 231 232 233 234 235 236 237 238 239 240 241 242 243 244 245 246 247 248\n",
      " 249 250 251 252 253 254 255 256 257 258 259 260 261 262 263 264 265 266\n",
      " 267 268 269 270 271 272 273 274 275 276 277 278 279 280 281 282 283 284\n",
      " 285 286 287 288 289 290 291 292 293 294 295 296 297 298 299 300 301 302\n",
      " 303 304 305 306 307 308 309 310 311 312 313 314 315 316 317 318 319 320\n",
      " 321 322 323 324 325 326 327 328 329 330 331 332 333 334 335 336 337 338\n",
      " 339 340 341 342 343 344 345 346 347 348 349 350 351 352 353 354 355 356\n",
      " 357 358 359 360 361 362]\n",
      "[592 593 594 595 596 597 598 599 600 601 602 603 604 605 606 607 608 609\n",
      " 610 611 612 613 614 615 616 617 618 619 620 621 622 623 624 625 626]\n",
      "[728 729 730 731 732 733 734 735 736 737 738 739 740 741 742 743 744 745\n",
      " 746 747 748 749 750 751 752 753 754 755 756 757 758 759 760 761 762 763\n",
      " 764 765 766 767 768 769 770 771 772 773 774 775 776 777 778 779 780 781\n",
      " 782 783 784 785 786 787 788 789 790 791 792 793 794 795 796 797 798 799\n",
      " 800 801 802 803 804 805 806 807 808 809 810 811 812 813 814 815 816 817\n",
      " 818 819 820 821 822 823 824 825 826 827 828 829 830 831 832 833 834 835\n",
      " 836 837 838 839 840 841 842 843 844 845 846 847 848 849 850 851 852 853\n",
      " 854 855 856 857 858 859 860 861 862 863 864 865 866 867 868 869]\n",
      "[1107 1108 1109 1110 1111 1112 1113 1114 1115 1116 1117 1118 1119 1120\n",
      " 1121 1122 1123 1124 1125 1126 1127 1128 1129 1130 1131 1132 1133 1134\n",
      " 1135 1136 1137 1138 1139 1140 1141 1142 1143 1144 1145 1146 1147 1148\n",
      " 1149 1150 1151 1152 1153 1154 1155 1156 1157 1158 1159 1160 1161 1162\n",
      " 1163 1164 1165 1166 1167 1168 1169 1170 1171 1172 1173 1174 1175 1176\n",
      " 1177 1178 1179 1180 1181 1182 1183 1184 1185 1186 1187 1188 1189 1190\n",
      " 1191 1192 1193 1194 1195 1196 1197 1198 1199 1200 1201 1202 1203 1204\n",
      " 1205 1206 1207 1208 1209 1210 1211 1212 1213 1214 1215 1216 1217 1218\n",
      " 1219 1220 1221 1222 1223 1224 1225 1226 1227 1228 1229 1230 1231 1232\n",
      " 1233 1234 1235 1236 1237 1238 1239 1240 1241 1242 1243 1244 1245 1246\n",
      " 1247 1248 1249 1250 1251 1252 1253 1254 1255 1256 1257 1258 1259 1260\n",
      " 1261 1262 1263 1264 1265 1266 1267 1268 1269 1270 1271 1272 1273 1274\n",
      " 1275 1276 1277 1278 1279 1280 1281 1282 1283 1284 1285 1286 1287 1288\n",
      " 1289 1290 1291 1292 1293 1294 1295 1296 1297 1298 1299 1300 1301 1302\n",
      " 1303 1304 1305 1306 1307 1308 1309 1310 1311 1312 1313 1314 1315 1316\n",
      " 1317 1318 1319 1320 1321 1322 1323 1324 1325 1326 1327 1328 1329 1330\n",
      " 1331 1332 1333 1334 1335 1336 1337 1338 1339 1340 1341 1342 1343 1344\n",
      " 1345 1346 1347 1348 1349 1350 1351 1352 1353 1354 1355 1356 1357 1358\n",
      " 1359 1360 1361 1362 1363 1364 1365 1366 1367 1368 1369 1370 1371 1372\n",
      " 1373 1374 1375 1376 1377 1378 1379 1380 1381 1382 1383 1384 1385 1386\n",
      " 1387 1388 1389 1390 1391 1392 1393 1394 1395 1396 1397 1398 1399 1400\n",
      " 1401 1402 1403 1404 1405 1406 1407 1408 1409 1410 1411 1412]\n",
      "[1439 1440 1441 1442 1443 1444 1445 1446 1447 1448 1449 1450 1451 1452\n",
      " 1453 1454 1455 1456 1457 1458 1459 1460 1461 1462 1463 1464 1465 1466\n",
      " 1467 1468 1469 1470 1471 1472 1473 1474 1475]\n",
      "[1526 1527 1528 1529 1530 1531 1532 1533 1534 1535 1536 1537 1538 1539\n",
      " 1540 1541 1542 1543 1544 1545 1546 1547 1548 1549 1550 1551 1552 1553\n",
      " 1554 1555 1556 1557 1558 1559 1560 1561 1562 1563 1564 1565 1566 1567\n",
      " 1568 1569 1570 1571 1572 1573 1574 1575 1576 1577 1578 1579 1580 1581\n",
      " 1582 1583 1584 1585 1586 1587 1588 1589 1590 1591 1592 1593 1594 1595\n",
      " 1596 1597 1598 1599 1600 1601 1602 1603 1604 1605 1606 1607 1608 1609\n",
      " 1610 1611 1612 1613 1614 1615 1616 1617 1618 1619 1620 1621 1622 1623\n",
      " 1624 1625 1626 1627 1628 1629 1630]\n"
     ]
    }
   ],
   "source": [
    "wav_path = \"/Users/user/Desktop/breath_speech/Respiro-en/samples/Shyam Nagar 24.wav\"\n",
    "#wav_path = \"samples/train-clean-360_14_208_000001_000000.wav\"\n",
    "#wav_path = \"samples/train-other-500_20_205_000002_000002.wav\"\n",
    "wav, sr = librosa.load(wav_path, sr=16000)\n",
    "feature, length = feature_extractor(wav)\n",
    "feature, length = feature.to(device), length.to(device)\n",
    "output = model(feature, length)\n",
    "\n",
    "# 0.064 is the threshold obtained from our validation set\n",
    "# You can try more strict thresholds like 0.5 or 0.9\n",
    "threshold = 0.064\n",
    "\n",
    "# min_length: length threshold to avoid too short detected breath, which tends to be the end part of speech\n",
    "# default: 20 ms\n",
    "min_length = 20\n",
    "\n",
    "prediction = (output[0] > 0.064).nonzero().squeeze().tolist()\n",
    "if isinstance(prediction, list) and len(prediction)>1:\n",
    "    diffs = np.diff(prediction)\n",
    "    splits = np.where(diffs != 1)[0] + 1\n",
    "    splits = np.split(prediction, splits)\n",
    "    splits = list(filter(lambda split: len(split)>min_length, splits))\n",
    "    if len(splits)>1:\n",
    "        for split in splits:\n",
    "            print(split)\n",
    "# The segments of breath are printed\n",
    "# 229 means 229 ms"
   ]
  },
  {
   "cell_type": "code",
   "execution_count": 4,
   "metadata": {},
   "outputs": [
    {
     "data": {
      "text/html": [
       "\n",
       "                <audio  controls=\"controls\" >\n",
       "                    <source src=\"data:audio/wav;base64,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\" type=\"audio/wav\" />\n",
       "                    Your browser does not support the audio element.\n",
       "                </audio>\n",
       "              "
      ],
      "text/plain": [
       "<IPython.lib.display.Audio object>"
      ]
     },
     "execution_count": 4,
     "metadata": {},
     "output_type": "execute_result"
    }
   ],
   "source": [
    "start = splits[6][0]\n",
    "end = splits[6][-1]\n",
    "\n",
    "from IPython.display import Audio\n",
    "Audio(data=wav[int((start*0.01)*sr):int((end*0.01)*sr)], rate=sr) "
   ]
  },
  {
   "cell_type": "markdown",
   "metadata": {},
   "source": [
    "Get Started (quick)"
   ]
  },
  {
   "cell_type": "code",
   "execution_count": 5,
   "metadata": {},
   "outputs": [
    {
     "name": "stdout",
     "output_type": "stream",
     "text": [
      "IntervalTree([Interval(0.0, 0.55), Interval(1.95, 3.62), Interval(5.92, 6.26), Interval(7.28, 8.69), Interval(11.07, 14.12), Interval(14.39, 14.75), Interval(15.26, 16.3)])\n"
     ]
    }
   ],
   "source": [
    "import torch\n",
    "from modules import DetectionNet, BreathDetector\n",
    "\n",
    "# model loading\n",
    "device = torch.device(\"cuda\" if torch.cuda.is_available() else \"cpu\")\n",
    "model = DetectionNet().to(device)\n",
    "checkpoint = torch.load(\"respiro-en.pt\", map_location=device)\n",
    "model.load_state_dict(checkpoint[\"model\"])\n",
    "model.eval()\n",
    "\n",
    "detector = BreathDetector(model) # Args: model, device=None\n",
    "\n",
    "tree = detector(\"/Users/user/Desktop/breath_speech/Respiro-en/samples/Shyam Nagar 24.wav\") # Args: wav_path, threshold=0.064, min_length=20\n",
    "print(tree)"
   ]
  },
  {
   "cell_type": "code",
   "execution_count": 6,
   "metadata": {},
   "outputs": [
    {
     "name": "stdout",
     "output_type": "stream",
     "text": [
      "{Interval(1.95, 3.62)}\n"
     ]
    }
   ],
   "source": [
    "print(tree[2.6:5.2])"
   ]
  },
  {
   "cell_type": "code",
   "execution_count": 7,
   "metadata": {},
   "outputs": [
    {
     "name": "stdout",
     "output_type": "stream",
     "text": [
      "[Interval(0.0, 0.55), Interval(1.95, 3.62), Interval(5.92, 6.26), Interval(7.28, 8.69), Interval(11.07, 14.12), Interval(14.39, 14.75), Interval(15.26, 16.3)]\n"
     ]
    }
   ],
   "source": [
    "print(sorted(tree))"
   ]
  },
  {
   "cell_type": "code",
   "execution_count": null,
   "metadata": {},
   "outputs": [],
   "source": []
  }
 ],
 "metadata": {
  "kernelspec": {
   "display_name": "3.10.15",
   "language": "python",
   "name": "python3"
  },
  "language_info": {
   "codemirror_mode": {
    "name": "ipython",
    "version": 3
   },
   "file_extension": ".py",
   "mimetype": "text/x-python",
   "name": "python",
   "nbconvert_exporter": "python",
   "pygments_lexer": "ipython3",
   "version": "3.10.15"
  }
 },
 "nbformat": 4,
 "nbformat_minor": 2
}
